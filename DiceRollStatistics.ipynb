{
  "nbformat": 4,
  "nbformat_minor": 0,
  "metadata": {
    "colab": {
      "provenance": [],
      "authorship_tag": "ABX9TyMIdSDGjiX9/5HbtP6fMH4w",
      "include_colab_link": true
    },
    "kernelspec": {
      "name": "python3",
      "display_name": "Python 3"
    },
    "language_info": {
      "name": "python"
    }
  },
  "cells": [
    {
      "cell_type": "markdown",
      "metadata": {
        "id": "view-in-github",
        "colab_type": "text"
      },
      "source": [
        "<a href=\"https://colab.research.google.com/github/priyam3198/stats-playground/blob/main/DiceRollStatistics.ipynb\" target=\"_parent\"><img src=\"https://colab.research.google.com/assets/colab-badge.svg\" alt=\"Open In Colab\"/></a>"
      ]
    },
    {
      "cell_type": "code",
      "execution_count": null,
      "metadata": {
        "id": "GTSYKvYfKChS"
      },
      "outputs": [],
      "source": [
        "import random\n",
        "import matplotlib.pyplot as plt"
      ]
    },
    {
      "cell_type": "code",
      "source": [
        "def generateRandomNumber(array):\n",
        "  rand_idx = random.randrange(len(array))\n",
        "  random_num = array[rand_idx]\n",
        "  return random_num\n"
      ],
      "metadata": {
        "id": "9fjxs0u2K7JK"
      },
      "execution_count": null,
      "outputs": []
    },
    {
      "cell_type": "code",
      "source": [
        "def valueEarned(array):\n",
        "  #Value of number between 1-5 is 10 and value of number 6 is -50\n",
        "\n",
        "  if generateRandomNumber(array) == 6:\n",
        "    return -50\n",
        "  else:\n",
        "    return 10\n",
        "\n",
        "\n"
      ],
      "metadata": {
        "id": "1kx09-9DKjPU"
      },
      "execution_count": null,
      "outputs": []
    },
    {
      "cell_type": "code",
      "source": [
        "def mostFrequentNumber(arr):\n",
        "    # Create an empty dictionary to store element counts\n",
        "    element_count = {}\n",
        "\n",
        "    # Iterate through the array and count element occurrences\n",
        "    for element in arr:\n",
        "        if element in element_count:\n",
        "            element_count[element] += 1\n",
        "        else:\n",
        "            element_count[element] = 1\n",
        "\n",
        "    # Find the element with the highest count\n",
        "    most_frequent = None\n",
        "    max_count = 0\n",
        "    for element, count in element_count.items():\n",
        "        if count > max_count:\n",
        "            most_frequent = element\n",
        "            max_count = count\n",
        "\n",
        "    return most_frequent"
      ],
      "metadata": {
        "id": "gtsFsl8wS4mX"
      },
      "execution_count": null,
      "outputs": []
    },
    {
      "cell_type": "code",
      "source": [
        "def median(arr):\n",
        "    # Create a sorted copy of the original array\n",
        "    sorted_arr = sorted(arr)\n",
        "\n",
        "    # Find the length of the sorted array\n",
        "    n = len(sorted_arr)\n",
        "\n",
        "    # Check if the sorted array has an odd or even number of elements\n",
        "    if n % 2 == 1:\n",
        "        # If the number of elements is odd, return the middle element\n",
        "        return sorted_arr[n // 2]\n",
        "    else:\n",
        "        # If the number of elements is even, return the average of the two middle elements\n",
        "        middle1 = sorted_arr[n // 2 - 1]\n",
        "        middle2 = sorted_arr[n // 2]\n",
        "        return (middle1 + middle2) / 2"
      ],
      "metadata": {
        "id": "EEmSjY-DS9Iu"
      },
      "execution_count": null,
      "outputs": []
    },
    {
      "cell_type": "code",
      "source": [
        "def plotLineChart(data_values, x_label=\"Iteration\", y_label=\"Value\", title=\"Line Chart\",horizontal_lines=None):\n",
        "    \"\"\"\n",
        "    Plot a line chart from a list of data values.\n",
        "\n",
        "    Parameters:\n",
        "        data_values (list): List of values to plot on the y-axis.\n",
        "        x_label (str): Label for the x-axis (default: \"Iteration\").\n",
        "        y_label (str): Label for the y-axis (default: \"Value\").\n",
        "        title (str): Title of the chart (default: \"Line Chart\").\n",
        "        horizontal_lines (list): List of y-values for horizontal lines like median, most frequent value etc(default: None).\n",
        "    \"\"\"\n",
        "    # Generate x-values as a range of integers from 1 to the length of data_values.\n",
        "    x_values = range(1, len(data_values) + 1)\n",
        "\n",
        "    # Create the line chart.\n",
        "    plt.plot(x_values, data_values, marker='o', linestyle='-')\n",
        "\n",
        "    # Add labels and title.\n",
        "    plt.xlabel(x_label)\n",
        "    plt.ylabel(y_label)\n",
        "    plt.title(title)\n",
        "\n",
        "    default_colors = ['red', 'green', 'blue', 'orange', 'purple', 'brown', 'pink']\n",
        "\n",
        "    if horizontal_lines is not None:\n",
        "        for i, line_value in enumerate(horizontal_lines):\n",
        "            # Use a distinct color or cycle through the default_colors list.\n",
        "            line_color = default_colors[i % len(default_colors)]\n",
        "            plt.axhline(y=line_value, color=line_color, linestyle='--', label=f'Horizontal Line at {line_value}')\n",
        "\n",
        "\n",
        "    # Display the chart.\n",
        "    plt.grid(True)\n",
        "    plt.legend()\n",
        "    plt.show()"
      ],
      "metadata": {
        "id": "lmZCmYEKOso4"
      },
      "execution_count": null,
      "outputs": []
    },
    {
      "cell_type": "code",
      "source": [
        "def gameLoop(array,n=100):\n",
        "  sum = 0\n",
        "  sumArray = []\n",
        "  for i in range(n):\n",
        "    sum = sum + valueEarned(array)\n",
        "    sumArray.append(sum)\n",
        "  medianValue =median(sumArray)\n",
        "  mostFrequentValue = mostFrequentNumber(sumArray)\n",
        "  print('Median Value: {0}'.format(medianValue))\n",
        "  print('Most Frequent Value: {0}'.format(mostFrequentValue))\n",
        "  plotLineChart(sumArray, x_label=\"Iteration\", y_label=\"Value\", title=\"Value Earned\",horizontal_lines = [medianValue,mostFrequentValue])\n",
        "\n",
        "  return sum\n"
      ],
      "metadata": {
        "id": "HjJqJlcsKsBs"
      },
      "execution_count": null,
      "outputs": []
    },
    {
      "cell_type": "code",
      "source": [
        "array = [1,2,3,4,5,6]\n",
        "gameLoop(array,n=10000000)"
      ],
      "metadata": {
        "colab": {
          "base_uri": "https://localhost:8080/",
          "height": 524
        },
        "id": "qQ24eLb_NLCF",
        "outputId": "5f91ffff-8353-4167-d283-4a2f2ad5f6a3"
      },
      "execution_count": null,
      "outputs": [
        {
          "output_type": "stream",
          "name": "stdout",
          "text": [
            "Median Value: -17220.0\n",
            "Most Frequent Value: -40\n"
          ]
        },
        {
          "output_type": "display_data",
          "data": {
            "text/plain": [
              "<Figure size 640x480 with 1 Axes>"
            ],
            "image/png": "[encoded data removed]"
          },
          "metadata": {}
        },
        {
          "output_type": "execute_result",
          "data": {
            "text/plain": [
              "-61100"
            ]
          },
          "metadata": {},
          "execution_count": 71
        }
      ]
    },
    {
      "cell_type": "code",
      "source": [],
      "metadata": {
        "id": "_ucprc_LEaVu"
      },
      "execution_count": null,
      "outputs": []
    }
  ]
}